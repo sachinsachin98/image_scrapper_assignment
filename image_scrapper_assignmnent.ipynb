{
 "cells": [
  {
   "cell_type": "code",
   "execution_count": 3,
   "id": "4d5839e0-a74b-4c5d-b678-397ed1c26004",
   "metadata": {},
   "outputs": [
    {
     "name": "stdout",
     "output_type": "stream",
     "text": [
      "[]\n"
     ]
    }
   ],
   "source": [
    "#Q1\n",
    "import requests\n",
    "from bs4 import BeautifulSoup\n",
    "\n",
    "url = \"https://www.youtube.com/@PW-Foundation/videos\"\n",
    "\n",
    "response = requests.get(url)\n",
    "html_content = response.content\n",
    "\n",
    "soup = BeautifulSoup(html_content, \"html.parser\")\n",
    "\n",
    "video_links = soup.find_all(\"a\", {\"class\": \"yt-simple-endpoint style-scope ytd-grid-video-renderer\"})\n",
    "video_urls = [\"https://www.youtube.com\" + link[\"href\"] for link in video_links][:5]\n",
    "\n",
    "print(video_urls)"
   ]
  },
  {
   "cell_type": "code",
   "execution_count": 5,
   "id": "42b438bb-0124-4c2d-9186-6f646ab7f1f2",
   "metadata": {},
   "outputs": [
    {
     "name": "stdout",
     "output_type": "stream",
     "text": [
      "[]\n"
     ]
    }
   ],
   "source": [
    "#Q2\n",
    "thumbnails = soup.find_all(\"img\", {\"class\": \"style-scope yt-img-shadow\"})\n",
    "thumbnail_urls = [thumb[\"src\"] for thumb in thumbnails[:5]]\n",
    "\n",
    "print(thumbnail_urls)"
   ]
  },
  {
   "cell_type": "code",
   "execution_count": 7,
   "id": "47969e08-fc05-4158-9f9c-55bbe58fb6bd",
   "metadata": {},
   "outputs": [],
   "source": [
    "#Q3\n",
    "title_tags = soup.find_all('a', {'class': 'yt-uix-tile-link'})\n",
    "\n",
    "titles = [tag['title'] for tag in title_tags[:5]]\n",
    "\n",
    "for title in titles:\n",
    "    print(title)"
   ]
  },
  {
   "cell_type": "code",
   "execution_count": 8,
   "id": "84a8f96c-073e-41ca-8707-98a202a2b76a",
   "metadata": {},
   "outputs": [],
   "source": [
    "#Q4\n",
    "video_links = soup.find_all('a', {'class': 'yt-simple-endpoint style-scope ytd-grid-video-renderer'})\n",
    "for link in video_links[:5]:\n",
    "    video_url = \"https://www.youtube.com\" + link['href']\n",
    "    video_response = requests.get(video_url)\n",
    "    video_soup = BeautifulSoup(video_response.content, 'html.parser')\n",
    "    views_element = video_soup.find('span', {'class': 'view-count'})\n",
    "    views = views_element.text if views_element else \"Not available\"\n",
    "    print(\"Number of views for {}: {}\".format(link.text.strip(), views))\n",
    "    "
   ]
  },
  {
   "cell_type": "code",
   "execution_count": 9,
   "id": "a40cc8bd-68ce-472a-a30b-f55756576063",
   "metadata": {},
   "outputs": [
    {
     "name": "stdout",
     "output_type": "stream",
     "text": [
      "[]\n"
     ]
    }
   ],
   "source": [
    "#Q5\n",
    "time_posts = soup.find_all(\"span\", {\"class\": \"style-scope ytd-grid-video-renderer\"})\n",
    "video_times = [time.get_text() for time in time_posts[:10] if \"ago\" in time.get_text()][:5]\n",
    "\n",
    "print(video_times)"
   ]
  },
  {
   "cell_type": "code",
   "execution_count": null,
   "id": "2d5eee09-4bb0-45d1-aa08-e4ca9e5988ba",
   "metadata": {},
   "outputs": [],
   "source": []
  }
 ],
 "metadata": {
  "kernelspec": {
   "display_name": "Python 3 (ipykernel)",
   "language": "python",
   "name": "python3"
  },
  "language_info": {
   "codemirror_mode": {
    "name": "ipython",
    "version": 3
   },
   "file_extension": ".py",
   "mimetype": "text/x-python",
   "name": "python",
   "nbconvert_exporter": "python",
   "pygments_lexer": "ipython3",
   "version": "3.10.8"
  }
 },
 "nbformat": 4,
 "nbformat_minor": 5
}
